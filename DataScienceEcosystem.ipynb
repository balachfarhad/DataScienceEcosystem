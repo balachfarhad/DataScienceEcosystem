{
 "cells": [
  {
   "cell_type": "markdown",
   "metadata": {},
   "source": [
    "<center>\n",
    "    <img src=\"https://cf-courses-data.s3.us.cloud-object-storage.appdomain.cloud/IBMDeveloperSkillsNetwork-DS0105EN-SkillsNetwork/labs/Module2/images/SN_web_lightmode.png\" width=\"300\" alt=\"cognitiveclass.ai logo\">\n",
    "</center>\n"
   ]
  },
  {
   "cell_type": "markdown",
   "metadata": {},
   "source": [
    "Exercise 2 - Create a markdown cell with the title of the notebook. (1 pt)\n",
    "\n",
    "**Title: Data Science Tools and Ecosystem**"
   ]
  },
  {
   "cell_type": "markdown",
   "metadata": {},
   "source": [
    "Exercise#3\n",
    "\n",
    "**In this notebook, Data Science Tools are summarized.**\n",
    "\n",
    "Objectives:\n",
    "\n",
    "languages that Data Scientists use.\n",
    "\n",
    "commonly used libraries used in Data Science.\n",
    "\n",
    "Common Data Science tools."
   ]
  },
  {
   "cell_type": "markdown",
   "metadata": {
    "tags": []
   },
   "source": [
    "#Exercise10\n",
    "\n",
    "**Objectives:**\n",
    "\n",
    "- List popular languages that Data Scientists use.\n",
    "- List commonly used libraries used by Data Scientists.\n",
    "- Comment on Data Science tools.\n"
   ]
  },
  {
   "cell_type": "markdown",
   "metadata": {},
   "source": [
    "Exercise#4\n",
    "\n",
    "Some of the popular languages that Data Scientists use are:\n",
    "\n",
    "**Python.\n",
    "R.\n",
    "SQL.\n",
    "Java.\n",
    "Julia.\n",
    "Scala.\n",
    "C/C++.\n",
    "JavaScript.**"
   ]
  },
  {
   "cell_type": "markdown",
   "metadata": {
    "tags": []
   },
   "source": [
    "Exercise#5\n",
    "\n",
    "**Some of the commonly used libraries used by Data Scientists include:**\n",
    "\n",
    "TensorFlow.\n",
    "NumPy.\n",
    "SciPy.\n",
    "Pandas.\n",
    "Matplotlib.\n",
    "Seaborn\n",
    "Keras.\n",
    "SciKit-Learn.\n",
    "PyTorch.\n",
    "Scrapy.\n",
    "BeautifulSoup.\n"
   ]
  },
  {
   "cell_type": "markdown",
   "metadata": {
    "tags": []
   },
   "source": [
    "Exercise#6\n",
    "\n",
    "## Data Science Tools Table:\n",
    "\n",
    "| Tool          | Description                              |\n",
    "| ------------- | ---------------------------------------- |\n",
    "| Jupyter       | Interactive computing and data analysis  |\n",
    "| TensorFlow    | Open-source machine learning framework   |\n",
    "| RStudio       | Integrated development environment for R |\n",
    "| pandas        | Data manipulation library in Python      |\n",
    "| Tableau       | Data visualization and business intelligence tool |\n",
    "| scikit-learn  | Machine learning library in Python       |\n"
   ]
  },
  {
   "cell_type": "markdown",
   "metadata": {
    "tags": []
   },
   "source": [
    "##Exercise#7\n",
    "\n",
    "##Arithematic Operations\n",
    "\n",
    "a = 5\n",
    "b = 3\n",
    "\n",
    "result = a+b\n",
    "print(result)\n",
    "\n",
    "##result=8"
   ]
  },
  {
   "cell_type": "markdown",
   "metadata": {
    "tags": []
   },
   "source": [
    "##Subtraction\n",
    "a = 10\n",
    "b = 4\n",
    "\n",
    "result = a - b\n",
    "print(result)\n",
    "##result=6"
   ]
  },
  {
   "cell_type": "markdown",
   "metadata": {
    "tags": []
   },
   "source": [
    "##Multiplication\n",
    "a = 6\n",
    "b = 7\n",
    "\n",
    "result = a * b\n",
    "print(result)\n",
    "##result=42"
   ]
  },
  {
   "cell_type": "markdown",
   "metadata": {
    "tags": []
   },
   "source": [
    "##Division\n",
    "a = 15\n",
    "b = 3\n",
    "\n",
    "result = a / b\n",
    "print(result)\n",
    "##result=5.0"
   ]
  },
  {
   "cell_type": "markdown",
   "metadata": {
    "tags": []
   },
   "source": [
    "##Modulus\n",
    "a = 17\n",
    "b = 5\n",
    "\n",
    "remainder = a % b\n",
    "print(result)\n",
    "##result=5.0"
   ]
  },
  {
   "cell_type": "code",
   "execution_count": 23,
   "metadata": {
    "tags": []
   },
   "outputs": [
    {
     "name": "stdout",
     "output_type": "stream",
     "text": [
      "Multiplication Result: 15\n",
      "Addition Result: 17\n"
     ]
    }
   ],
   "source": [
    "##Exercise#8\n",
    "\n",
    "# Multiplication\n",
    "a = 5\n",
    "b = 3\n",
    "result_multiply = a * b\n",
    "\n",
    "# Addition\n",
    "x = 10\n",
    "y = 7\n",
    "result_add = x + y\n",
    "\n",
    "print(\"Multiplication Result:\", result_multiply)\n",
    "print(\"Addition Result:\", result_add)\n"
   ]
  },
  {
   "cell_type": "code",
   "execution_count": 24,
   "metadata": {
    "tags": []
   },
   "outputs": [
    {
     "name": "stdout",
     "output_type": "stream",
     "text": [
      "120 minutes is equal to 2.0 hours.\n"
     ]
    }
   ],
   "source": [
    "#Exercise9\n",
    "\n",
    "# Convert minutes to hours\n",
    "minutes = 120\n",
    "hours = minutes / 60\n",
    "\n",
    "# Print the result\n",
    "print(f\"{minutes} minutes is equal to {hours} hours.\")\n"
   ]
  },
  {
   "cell_type": "markdown",
   "metadata": {},
   "source": []
  },
  {
   "cell_type": "markdown",
   "metadata": {},
   "source": [
    "**Exercise11**\n",
    "\n",
    "#Author:\n",
    "\n",
    "Balach Farhad"
   ]
  },
  {
   "cell_type": "code",
   "execution_count": null,
   "metadata": {},
   "outputs": [],
   "source": []
  }
 ],
 "metadata": {
  "kernelspec": {
   "display_name": "Python",
   "language": "python",
   "name": "conda-env-python-py"
  },
  "language_info": {
   "codemirror_mode": {
    "name": "ipython",
    "version": 3
   },
   "file_extension": ".py",
   "mimetype": "text/x-python",
   "name": "python",
   "nbconvert_exporter": "python",
   "pygments_lexer": "ipython3",
   "version": "3.7.12"
  }
 },
 "nbformat": 4,
 "nbformat_minor": 4
}
